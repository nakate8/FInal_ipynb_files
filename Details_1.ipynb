{
 "cells": [
  {
   "cell_type": "code",
   "execution_count": 5,
   "id": "5bf6ecff-ae06-4e5c-948f-ab93cff8a9a8",
   "metadata": {},
   "outputs": [
    {
     "ename": "ModuleNotFoundError",
     "evalue": "No module named 'fancyimpute'",
     "output_type": "error",
     "traceback": [
      "\u001b[1;31m---------------------------------------------------------------------------\u001b[0m",
      "\u001b[1;31mModuleNotFoundError\u001b[0m                       Traceback (most recent call last)",
      "Cell \u001b[1;32mIn[5], line 15\u001b[0m\n\u001b[0;32m     12\u001b[0m \u001b[38;5;28;01mfrom\u001b[39;00m \u001b[38;5;21;01msklearn\u001b[39;00m\u001b[38;5;21;01m.\u001b[39;00m\u001b[38;5;21;01mensemble\u001b[39;00m \u001b[38;5;28;01mimport\u001b[39;00m RandomForestRegressor\n\u001b[0;32m     14\u001b[0m \u001b[38;5;66;03m#Matrix Factorization immputation null values:\u001b[39;00m\n\u001b[1;32m---> 15\u001b[0m \u001b[38;5;28;01mfrom\u001b[39;00m \u001b[38;5;21;01mfancyimpute\u001b[39;00m \u001b[38;5;28;01mimport\u001b[39;00m MatrixFactorization\n\u001b[0;32m     17\u001b[0m \u001b[38;5;66;03m#outliers detection by z-score and IQR\u001b[39;00m\n\u001b[0;32m     18\u001b[0m \u001b[38;5;28;01mimport\u001b[39;00m \u001b[38;5;21;01mnumpy\u001b[39;00m \u001b[38;5;28;01mas\u001b[39;00m \u001b[38;5;21;01mnp\u001b[39;00m\n",
      "\u001b[1;31mModuleNotFoundError\u001b[0m: No module named 'fancyimpute'"
     ]
    }
   ],
   "source": [
    "import pandas as pd\n",
    "import seaborn as sns\n",
    "import matplotlib.pyplot as plt\n",
    "import numpy as np\n",
    "import plotly.express as px\n",
    "\n",
    "#Iterative Imputation null values\n",
    "from sklearn.experimental import enable_iterative_imputer\n",
    "from sklearn.impute import IterativeImputer\n",
    "  \n",
    "#randomforest regressor immputation null values\n",
    "from sklearn.ensemble import RandomForestRegressor\n",
    "\n",
    "#Matrix Factorization immputation null values:\n",
    "from fancyimpute import MatrixFactorization\n",
    "\n",
    "#outliers detection by z-score and IQR\n",
    "import numpy as np\n",
    "from scipy import stats\n",
    "\n",
    "# SimpleImputer with Mean Imputation for outliers\n",
    "from sklearn.impute import SimpleImputer\n",
    "\n",
    "\n",
    "from pandas.plotting import scatter_matrix\n",
    "from scipy.stats import skew, kurtosis\n",
    "\n",
    "#scaling\n",
    "from sklearn.preprocessing import StandardScaler\n",
    "\n",
    "\n",
    "# model by xgboost\n",
    "import xgboost as xgb\n",
    "import pandas as pd\n",
    "from sklearn.model_selection import train_test_split, GridSearchCV\n",
    "from sklearn.metrics import mean_squared_error, r2_score\n",
    "from xgboost import XGBRegressor\n"
   ]
  },
  {
   "cell_type": "code",
   "execution_count": 4,
   "id": "1c4c5a25-43bb-49d1-9f8e-b5d3d2fd0874",
   "metadata": {},
   "outputs": [
    {
     "name": "stdout",
     "output_type": "stream",
     "text": [
      "Defaulting to user installation because normal site-packages is not writeable\n",
      "Collecting plotly\n",
      "  Downloading plotly-5.23.0-py3-none-any.whl.metadata (7.3 kB)\n",
      "Collecting tenacity>=6.2.0 (from plotly)\n",
      "  Downloading tenacity-9.0.0-py3-none-any.whl.metadata (1.2 kB)\n",
      "Requirement already satisfied: packaging in c:\\program files\\python312\\lib\\site-packages (from plotly) (24.0)\n",
      "Downloading plotly-5.23.0-py3-none-any.whl (17.3 MB)\n",
      "   ---------------------------------------- 0.0/17.3 MB ? eta -:--:--\n",
      "   ---------------------------------------- 0.2/17.3 MB 3.3 MB/s eta 0:00:06\n",
      "    --------------------------------------- 0.3/17.3 MB 3.3 MB/s eta 0:00:06\n",
      "   - -------------------------------------- 0.5/17.3 MB 3.8 MB/s eta 0:00:05\n",
      "   - -------------------------------------- 0.7/17.3 MB 3.9 MB/s eta 0:00:05\n",
      "   -- ------------------------------------- 1.0/17.3 MB 4.2 MB/s eta 0:00:04\n",
      "   -- ------------------------------------- 1.2/17.3 MB 4.3 MB/s eta 0:00:04\n",
      "   --- ------------------------------------ 1.4/17.3 MB 4.0 MB/s eta 0:00:04\n",
      "   --- ------------------------------------ 1.6/17.3 MB 4.2 MB/s eta 0:00:04\n",
      "   ---- ----------------------------------- 1.8/17.3 MB 4.1 MB/s eta 0:00:04\n",
      "   ---- ----------------------------------- 2.0/17.3 MB 4.1 MB/s eta 0:00:04\n",
      "   ----- ---------------------------------- 2.2/17.3 MB 4.2 MB/s eta 0:00:04\n",
      "   ----- ---------------------------------- 2.5/17.3 MB 4.2 MB/s eta 0:00:04\n",
      "   ------ --------------------------------- 2.6/17.3 MB 4.2 MB/s eta 0:00:04\n",
      "   ------ --------------------------------- 2.8/17.3 MB 4.2 MB/s eta 0:00:04\n",
      "   ------- -------------------------------- 3.0/17.3 MB 4.2 MB/s eta 0:00:04\n",
      "   ------- -------------------------------- 3.3/17.3 MB 4.3 MB/s eta 0:00:04\n",
      "   -------- ------------------------------- 3.6/17.3 MB 4.4 MB/s eta 0:00:04\n",
      "   -------- ------------------------------- 3.7/17.3 MB 4.3 MB/s eta 0:00:04\n",
      "   --------- ------------------------------ 3.9/17.3 MB 4.3 MB/s eta 0:00:04\n",
      "   --------- ------------------------------ 4.1/17.3 MB 4.3 MB/s eta 0:00:04\n",
      "   ---------- ----------------------------- 4.4/17.3 MB 4.3 MB/s eta 0:00:03\n",
      "   ---------- ----------------------------- 4.6/17.3 MB 4.3 MB/s eta 0:00:03\n",
      "   ----------- ---------------------------- 4.8/17.3 MB 4.3 MB/s eta 0:00:03\n",
      "   ----------- ---------------------------- 5.1/17.3 MB 4.4 MB/s eta 0:00:03\n",
      "   ------------ --------------------------- 5.3/17.3 MB 4.4 MB/s eta 0:00:03\n",
      "   ------------ --------------------------- 5.6/17.3 MB 4.5 MB/s eta 0:00:03\n",
      "   ------------- -------------------------- 5.8/17.3 MB 4.4 MB/s eta 0:00:03\n",
      "   ------------- -------------------------- 6.0/17.3 MB 4.5 MB/s eta 0:00:03\n",
      "   -------------- ------------------------- 6.3/17.3 MB 4.5 MB/s eta 0:00:03\n",
      "   -------------- ------------------------- 6.5/17.3 MB 4.5 MB/s eta 0:00:03\n",
      "   --------------- ------------------------ 6.7/17.3 MB 4.5 MB/s eta 0:00:03\n",
      "   --------------- ------------------------ 6.9/17.3 MB 4.4 MB/s eta 0:00:03\n",
      "   ---------------- ----------------------- 7.1/17.3 MB 4.4 MB/s eta 0:00:03\n",
      "   ----------------- ---------------------- 7.4/17.3 MB 4.4 MB/s eta 0:00:03\n",
      "   ----------------- ---------------------- 7.6/17.3 MB 4.5 MB/s eta 0:00:03\n",
      "   ------------------ --------------------- 7.8/17.3 MB 4.5 MB/s eta 0:00:03\n",
      "   ------------------ --------------------- 8.0/17.3 MB 4.5 MB/s eta 0:00:03\n",
      "   ------------------- -------------------- 8.3/17.3 MB 4.5 MB/s eta 0:00:03\n",
      "   ------------------- -------------------- 8.4/17.3 MB 4.4 MB/s eta 0:00:03\n",
      "   ------------------- -------------------- 8.5/17.3 MB 4.4 MB/s eta 0:00:03\n",
      "   -------------------- ------------------- 8.7/17.3 MB 4.4 MB/s eta 0:00:02\n",
      "   -------------------- ------------------- 9.0/17.3 MB 4.4 MB/s eta 0:00:02\n",
      "   --------------------- ------------------ 9.2/17.3 MB 4.4 MB/s eta 0:00:02\n",
      "   --------------------- ------------------ 9.5/17.3 MB 4.4 MB/s eta 0:00:02\n",
      "   ---------------------- ----------------- 9.7/17.3 MB 4.4 MB/s eta 0:00:02\n",
      "   ---------------------- ----------------- 10.0/17.3 MB 4.4 MB/s eta 0:00:02\n",
      "   ----------------------- ---------------- 10.2/17.3 MB 4.4 MB/s eta 0:00:02\n",
      "   ------------------------ --------------- 10.5/17.3 MB 4.5 MB/s eta 0:00:02\n",
      "   ------------------------- -------------- 10.8/17.3 MB 4.5 MB/s eta 0:00:02\n",
      "   ------------------------- -------------- 11.1/17.3 MB 4.5 MB/s eta 0:00:02\n",
      "   ------------------------- -------------- 11.2/17.3 MB 4.5 MB/s eta 0:00:02\n",
      "   -------------------------- ------------- 11.6/17.3 MB 4.6 MB/s eta 0:00:02\n",
      "   --------------------------- ------------ 11.8/17.3 MB 4.6 MB/s eta 0:00:02\n",
      "   ---------------------------- ----------- 12.2/17.3 MB 4.6 MB/s eta 0:00:02\n",
      "   ---------------------------- ----------- 12.4/17.3 MB 4.6 MB/s eta 0:00:02\n",
      "   ----------------------------- ---------- 12.6/17.3 MB 4.6 MB/s eta 0:00:02\n",
      "   ----------------------------- ---------- 12.8/17.3 MB 4.6 MB/s eta 0:00:01\n",
      "   ----------------------------- ---------- 12.9/17.3 MB 4.6 MB/s eta 0:00:01\n",
      "   ------------------------------ --------- 13.1/17.3 MB 4.6 MB/s eta 0:00:01\n",
      "   ------------------------------ --------- 13.3/17.3 MB 4.6 MB/s eta 0:00:01\n",
      "   ------------------------------- -------- 13.5/17.3 MB 4.6 MB/s eta 0:00:01\n",
      "   ------------------------------- -------- 13.7/17.3 MB 4.6 MB/s eta 0:00:01\n",
      "   -------------------------------- ------- 14.0/17.3 MB 4.6 MB/s eta 0:00:01\n",
      "   -------------------------------- ------- 14.1/17.3 MB 4.6 MB/s eta 0:00:01\n",
      "   --------------------------------- ------ 14.3/17.3 MB 4.5 MB/s eta 0:00:01\n",
      "   --------------------------------- ------ 14.5/17.3 MB 4.5 MB/s eta 0:00:01\n",
      "   --------------------------------- ------ 14.7/17.3 MB 4.5 MB/s eta 0:00:01\n",
      "   ---------------------------------- ----- 15.0/17.3 MB 4.5 MB/s eta 0:00:01\n",
      "   ---------------------------------- ----- 15.1/17.3 MB 4.5 MB/s eta 0:00:01\n",
      "   ----------------------------------- ---- 15.3/17.3 MB 4.5 MB/s eta 0:00:01\n",
      "   ----------------------------------- ---- 15.5/17.3 MB 4.5 MB/s eta 0:00:01\n",
      "   ------------------------------------ --- 15.6/17.3 MB 4.4 MB/s eta 0:00:01\n",
      "   ------------------------------------ --- 15.9/17.3 MB 4.4 MB/s eta 0:00:01\n",
      "   ------------------------------------- -- 16.0/17.3 MB 4.4 MB/s eta 0:00:01\n",
      "   ------------------------------------- -- 16.2/17.3 MB 4.4 MB/s eta 0:00:01\n",
      "   ------------------------------------- -- 16.4/17.3 MB 4.4 MB/s eta 0:00:01\n",
      "   -------------------------------------- - 16.6/17.3 MB 4.4 MB/s eta 0:00:01\n",
      "   -------------------------------------- - 16.8/17.3 MB 4.3 MB/s eta 0:00:01\n",
      "   ---------------------------------------  17.0/17.3 MB 4.3 MB/s eta 0:00:01\n",
      "   ---------------------------------------  17.2/17.3 MB 4.4 MB/s eta 0:00:01\n",
      "   ---------------------------------------  17.3/17.3 MB 4.3 MB/s eta 0:00:01\n",
      "   ---------------------------------------  17.3/17.3 MB 4.3 MB/s eta 0:00:01\n",
      "   ---------------------------------------- 17.3/17.3 MB 4.2 MB/s eta 0:00:00\n",
      "Downloading tenacity-9.0.0-py3-none-any.whl (28 kB)\n",
      "Installing collected packages: tenacity, plotly\n",
      "Successfully installed plotly-5.23.0 tenacity-9.0.0\n"
     ]
    },
    {
     "name": "stderr",
     "output_type": "stream",
     "text": [
      "\n",
      "[notice] A new release of pip is available: 24.0 -> 24.2\n",
      "[notice] To update, run: python.exe -m pip install --upgrade pip\n"
     ]
    }
   ],
   "source": [
    "!pip install plotly"
   ]
  },
  {
   "cell_type": "code",
   "execution_count": null,
   "id": "31e42d04-82cd-4882-ba64-16a2e930c765",
   "metadata": {},
   "outputs": [],
   "source": [
    "df=pd.read_csv(r\"flood_final.csv\")"
   ]
  },
  {
   "cell_type": "code",
   "execution_count": null,
   "id": "17e6b3c1-2e98-48cf-b6b9-f2d293417e22",
   "metadata": {},
   "outputs": [],
   "source": [
    "df.shape"
   ]
  },
  {
   "cell_type": "code",
   "execution_count": null,
   "id": "3511d4ed-794e-44af-b624-1aa1ab6cd185",
   "metadata": {},
   "outputs": [],
   "source": [
    "df.head()"
   ]
  },
  {
   "cell_type": "markdown",
   "id": "879abaa4-07bd-4633-829b-23da9a6b453c",
   "metadata": {},
   "source": [
    "## statistical insight from data"
   ]
  },
  {
   "cell_type": "code",
   "execution_count": null,
   "id": "3cfd68fa-f417-4262-b7e2-efab08baed5e",
   "metadata": {},
   "outputs": [],
   "source": [
    "df.info()"
   ]
  },
  {
   "cell_type": "code",
   "execution_count": null,
   "id": "2d7f1023-d991-4b1b-b137-e4dd74ccf93e",
   "metadata": {},
   "outputs": [],
   "source": [
    "df.describe(include='all')"
   ]
  },
  {
   "cell_type": "code",
   "execution_count": null,
   "id": "f24dd788-c273-470a-90b9-c4de0fa9b355",
   "metadata": {},
   "outputs": [],
   "source": [
    "df.columns"
   ]
  },
  {
   "cell_type": "markdown",
   "id": "a01d1aac-e170-4a34-8c06-558c6fd26b48",
   "metadata": {},
   "source": [
    "## checkig unique values from each column"
   ]
  },
  {
   "cell_type": "code",
   "execution_count": null,
   "id": "12152bbb-5751-4c9f-9364-ab054567470c",
   "metadata": {},
   "outputs": [],
   "source": [
    "for column in df.columns:\n",
    "    unique_values = df[column].unique()\n",
    "    unique_count = len(unique_values)\n",
    "    print(f\"{column}: {unique_count} unique values\")\n",
    "    print(f\"Unique values: {unique_values}\")"
   ]
  },
  {
   "cell_type": "markdown",
   "id": "5ea9d0e5-e39d-4ce4-833b-b219e91d7de2",
   "metadata": {},
   "source": [
    "## plots before the cleaning of the data to undersatnd the some insights"
   ]
  },
  {
   "cell_type": "markdown",
   "id": "d091acb5-68ab-4453-94ef-7ca439e137bd",
   "metadata": {},
   "source": [
    "## 1.Distribution of Target Column (FloodProbability)"
   ]
  },
  {
   "cell_type": "code",
   "execution_count": null,
   "id": "f3d1ba77-8a27-4e78-9abc-17c030f7569a",
   "metadata": {},
   "outputs": [],
   "source": [
    "plt.figure(figsize=(10, 6))\n",
    "sns.histplot(df['FloodProbability'], bins=30, kde=True)\n",
    "plt.title('Distribution of FloodProbability')\n",
    "plt.xlabel('FloodProbability')\n",
    "plt.ylabel('Frequency')\n",
    "plt.show()"
   ]
  },
  {
   "cell_type": "markdown",
   "id": "9415ec98-7327-4782-8860-9dbf55966662",
   "metadata": {},
   "source": [
    "## 2.Box Plot for Outlier Detection"
   ]
  },
  {
   "cell_type": "code",
   "execution_count": null,
   "id": "ebfb2bad-303c-4e88-b1c5-0af4c43b2ed3",
   "metadata": {},
   "outputs": [],
   "source": [
    "selected_cols = ['FloodProbability'] + list(df.columns[:-1])  # Include target column and features\n",
    "\n",
    "for col in selected_cols:\n",
    "    plt.figure(figsize=(10, 4))\n",
    "    sns.boxplot(x=df[col])\n",
    "    plt.title(f'Box Plot of {col}')\n",
    "    plt.xlabel(col)\n",
    "    plt.show()"
   ]
  },
  {
   "cell_type": "markdown",
   "id": "78489253-ad93-4abd-96a9-dd4141a96c9f",
   "metadata": {},
   "source": []
  },
  {
   "cell_type": "code",
   "execution_count": null,
   "id": "90e86ca2-ac15-4946-9d4c-fd81fca40952",
   "metadata": {},
   "outputs": [],
   "source": []
  }
 ],
 "metadata": {
  "kernelspec": {
   "display_name": "Python 3 (ipykernel)",
   "language": "python",
   "name": "python3"
  },
  "language_info": {
   "codemirror_mode": {
    "name": "ipython",
    "version": 3
   },
   "file_extension": ".py",
   "mimetype": "text/x-python",
   "name": "python",
   "nbconvert_exporter": "python",
   "pygments_lexer": "ipython3",
   "version": "3.12.3"
  }
 },
 "nbformat": 4,
 "nbformat_minor": 5
}
